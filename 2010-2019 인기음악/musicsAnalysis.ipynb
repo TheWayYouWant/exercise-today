{
  "cells": [
    {
      "cell_type": "markdown",
      "metadata": {
        "id": "1Hw0YqwfDSpC"
      },
      "source": [
        "# 데이터 준비하기"
      ]
    },
    {
      "cell_type": "markdown",
      "metadata": {
        "id": "IeLn_-QudTw6"
      },
      "source": []
    },
    {
      "cell_type": "code",
      "execution_count": 184,
      "metadata": {
        "id": "3h7yj5roFi4d"
      },
      "outputs": [],
      "source": [
        "import numpy as np\n",
        "import pandas as pd\n",
        "import seaborn as sns\n",
        "import matplotlib.pyplot as plt"
      ]
    },
    {
      "cell_type": "markdown",
      "metadata": {
        "id": "Abqu5dHCLWYC"
      },
      "source": [
        "## 음악데이터"
      ]
    },
    {
      "cell_type": "code",
      "execution_count": 185,
      "metadata": {
        "colab": {
          "base_uri": "https://localhost:8080/",
          "height": 593
        },
        "id": "oc7FZgcbIr_r",
        "outputId": "e34942db-8955-4085-a871-10fe7098f6d4"
      },
      "outputs": [
        {
          "name": "stdout",
          "output_type": "stream",
          "text": [
            "<class 'pandas.core.frame.DataFrame'>\n",
            "Int64Index: 603 entries, 1 to 603\n",
            "Data columns (total 14 columns):\n",
            " #   Column     Non-Null Count  Dtype  \n",
            "---  ------     --------------  -----  \n",
            " 0   title      603 non-null    object \n",
            " 1   artist     603 non-null    object \n",
            " 2   top genre  603 non-null    object \n",
            " 3   year       603 non-null    int64  \n",
            " 4   bpm        603 non-null    int64  \n",
            " 5   nrgy       603 non-null    int64  \n",
            " 6   dnce       603 non-null    int64  \n",
            " 7   dB         603 non-null    int64  \n",
            " 8   live       603 non-null    int64  \n",
            " 9   val        603 non-null    int64  \n",
            " 10  dur        603 non-null    int64  \n",
            " 11  acous      603 non-null    int64  \n",
            " 12  spch       603 non-null    int64  \n",
            " 13  pop        591 non-null    float64\n",
            "dtypes: float64(1), int64(10), object(3)\n",
            "memory usage: 70.7+ KB\n"
          ]
        },
        {
          "data": {
            "text/html": [
              "\n",
              "  <div id=\"df-5a5601f9-8b36-4959-97bd-b0429e4e55d1\">\n",
              "    <div class=\"colab-df-container\">\n",
              "      <div>\n",
              "<style scoped>\n",
              "    .dataframe tbody tr th:only-of-type {\n",
              "        vertical-align: middle;\n",
              "    }\n",
              "\n",
              "    .dataframe tbody tr th {\n",
              "        vertical-align: top;\n",
              "    }\n",
              "\n",
              "    .dataframe thead th {\n",
              "        text-align: right;\n",
              "    }\n",
              "</style>\n",
              "<table border=\"1\" class=\"dataframe\">\n",
              "  <thead>\n",
              "    <tr style=\"text-align: right;\">\n",
              "      <th></th>\n",
              "      <th>title</th>\n",
              "      <th>artist</th>\n",
              "      <th>top genre</th>\n",
              "      <th>year</th>\n",
              "      <th>bpm</th>\n",
              "      <th>nrgy</th>\n",
              "      <th>dnce</th>\n",
              "      <th>dB</th>\n",
              "      <th>live</th>\n",
              "      <th>val</th>\n",
              "      <th>dur</th>\n",
              "      <th>acous</th>\n",
              "      <th>spch</th>\n",
              "      <th>pop</th>\n",
              "    </tr>\n",
              "  </thead>\n",
              "  <tbody>\n",
              "    <tr>\n",
              "      <th>1</th>\n",
              "      <td>Hey, Soul Sister</td>\n",
              "      <td>Train</td>\n",
              "      <td>neo mellow</td>\n",
              "      <td>2010</td>\n",
              "      <td>97</td>\n",
              "      <td>89</td>\n",
              "      <td>67</td>\n",
              "      <td>-4</td>\n",
              "      <td>8</td>\n",
              "      <td>80</td>\n",
              "      <td>217</td>\n",
              "      <td>19</td>\n",
              "      <td>4</td>\n",
              "      <td>83.0</td>\n",
              "    </tr>\n",
              "    <tr>\n",
              "      <th>2</th>\n",
              "      <td>Love The Way You Lie</td>\n",
              "      <td>Eminem</td>\n",
              "      <td>detroit hip hop</td>\n",
              "      <td>2010</td>\n",
              "      <td>87</td>\n",
              "      <td>93</td>\n",
              "      <td>75</td>\n",
              "      <td>-5</td>\n",
              "      <td>52</td>\n",
              "      <td>64</td>\n",
              "      <td>263</td>\n",
              "      <td>24</td>\n",
              "      <td>23</td>\n",
              "      <td>82.0</td>\n",
              "    </tr>\n",
              "    <tr>\n",
              "      <th>3</th>\n",
              "      <td>TiK ToK</td>\n",
              "      <td>Kesha</td>\n",
              "      <td>dance pop</td>\n",
              "      <td>2010</td>\n",
              "      <td>120</td>\n",
              "      <td>84</td>\n",
              "      <td>76</td>\n",
              "      <td>-3</td>\n",
              "      <td>29</td>\n",
              "      <td>71</td>\n",
              "      <td>200</td>\n",
              "      <td>10</td>\n",
              "      <td>14</td>\n",
              "      <td>80.0</td>\n",
              "    </tr>\n",
              "    <tr>\n",
              "      <th>4</th>\n",
              "      <td>Bad Romance</td>\n",
              "      <td>Lady Gaga</td>\n",
              "      <td>dance pop</td>\n",
              "      <td>2010</td>\n",
              "      <td>119</td>\n",
              "      <td>92</td>\n",
              "      <td>70</td>\n",
              "      <td>-4</td>\n",
              "      <td>8</td>\n",
              "      <td>71</td>\n",
              "      <td>295</td>\n",
              "      <td>0</td>\n",
              "      <td>4</td>\n",
              "      <td>79.0</td>\n",
              "    </tr>\n",
              "    <tr>\n",
              "      <th>5</th>\n",
              "      <td>Just the Way You Are</td>\n",
              "      <td>Bruno Mars</td>\n",
              "      <td>pop</td>\n",
              "      <td>2010</td>\n",
              "      <td>109</td>\n",
              "      <td>84</td>\n",
              "      <td>64</td>\n",
              "      <td>-5</td>\n",
              "      <td>9</td>\n",
              "      <td>43</td>\n",
              "      <td>221</td>\n",
              "      <td>2</td>\n",
              "      <td>4</td>\n",
              "      <td>78.0</td>\n",
              "    </tr>\n",
              "  </tbody>\n",
              "</table>\n",
              "</div>\n",
              "      <button class=\"colab-df-convert\" onclick=\"convertToInteractive('df-5a5601f9-8b36-4959-97bd-b0429e4e55d1')\"\n",
              "              title=\"Convert this dataframe to an interactive table.\"\n",
              "              style=\"display:none;\">\n",
              "        \n",
              "  <svg xmlns=\"http://www.w3.org/2000/svg\" height=\"24px\"viewBox=\"0 0 24 24\"\n",
              "       width=\"24px\">\n",
              "    <path d=\"M0 0h24v24H0V0z\" fill=\"none\"/>\n",
              "    <path d=\"M18.56 5.44l.94 2.06.94-2.06 2.06-.94-2.06-.94-.94-2.06-.94 2.06-2.06.94zm-11 1L8.5 8.5l.94-2.06 2.06-.94-2.06-.94L8.5 2.5l-.94 2.06-2.06.94zm10 10l.94 2.06.94-2.06 2.06-.94-2.06-.94-.94-2.06-.94 2.06-2.06.94z\"/><path d=\"M17.41 7.96l-1.37-1.37c-.4-.4-.92-.59-1.43-.59-.52 0-1.04.2-1.43.59L10.3 9.45l-7.72 7.72c-.78.78-.78 2.05 0 2.83L4 21.41c.39.39.9.59 1.41.59.51 0 1.02-.2 1.41-.59l7.78-7.78 2.81-2.81c.8-.78.8-2.07 0-2.86zM5.41 20L4 18.59l7.72-7.72 1.47 1.35L5.41 20z\"/>\n",
              "  </svg>\n",
              "      </button>\n",
              "      \n",
              "  <style>\n",
              "    .colab-df-container {\n",
              "      display:flex;\n",
              "      flex-wrap:wrap;\n",
              "      gap: 12px;\n",
              "    }\n",
              "\n",
              "    .colab-df-convert {\n",
              "      background-color: #E8F0FE;\n",
              "      border: none;\n",
              "      border-radius: 50%;\n",
              "      cursor: pointer;\n",
              "      display: none;\n",
              "      fill: #1967D2;\n",
              "      height: 32px;\n",
              "      padding: 0 0 0 0;\n",
              "      width: 32px;\n",
              "    }\n",
              "\n",
              "    .colab-df-convert:hover {\n",
              "      background-color: #E2EBFA;\n",
              "      box-shadow: 0px 1px 2px rgba(60, 64, 67, 0.3), 0px 1px 3px 1px rgba(60, 64, 67, 0.15);\n",
              "      fill: #174EA6;\n",
              "    }\n",
              "\n",
              "    [theme=dark] .colab-df-convert {\n",
              "      background-color: #3B4455;\n",
              "      fill: #D2E3FC;\n",
              "    }\n",
              "\n",
              "    [theme=dark] .colab-df-convert:hover {\n",
              "      background-color: #434B5C;\n",
              "      box-shadow: 0px 1px 3px 1px rgba(0, 0, 0, 0.15);\n",
              "      filter: drop-shadow(0px 1px 2px rgba(0, 0, 0, 0.3));\n",
              "      fill: #FFFFFF;\n",
              "    }\n",
              "  </style>\n",
              "\n",
              "      <script>\n",
              "        const buttonEl =\n",
              "          document.querySelector('#df-5a5601f9-8b36-4959-97bd-b0429e4e55d1 button.colab-df-convert');\n",
              "        buttonEl.style.display =\n",
              "          google.colab.kernel.accessAllowed ? 'block' : 'none';\n",
              "\n",
              "        async function convertToInteractive(key) {\n",
              "          const element = document.querySelector('#df-5a5601f9-8b36-4959-97bd-b0429e4e55d1');\n",
              "          const dataTable =\n",
              "            await google.colab.kernel.invokeFunction('convertToInteractive',\n",
              "                                                     [key], {});\n",
              "          if (!dataTable) return;\n",
              "\n",
              "          const docLinkHtml = 'Like what you see? Visit the ' +\n",
              "            '<a target=\"_blank\" href=https://colab.research.google.com/notebooks/data_table.ipynb>data table notebook</a>'\n",
              "            + ' to learn more about interactive tables.';\n",
              "          element.innerHTML = '';\n",
              "          dataTable['output_type'] = 'display_data';\n",
              "          await google.colab.output.renderOutput(dataTable, element);\n",
              "          const docLink = document.createElement('div');\n",
              "          docLink.innerHTML = docLinkHtml;\n",
              "          element.appendChild(docLink);\n",
              "        }\n",
              "      </script>\n",
              "    </div>\n",
              "  </div>\n",
              "  "
            ],
            "text/plain": [
              "                  title      artist        top genre  year  bpm  nrgy  dnce  \\\n",
              "1      Hey, Soul Sister       Train       neo mellow  2010   97    89    67   \n",
              "2  Love The Way You Lie      Eminem  detroit hip hop  2010   87    93    75   \n",
              "3               TiK ToK       Kesha        dance pop  2010  120    84    76   \n",
              "4           Bad Romance   Lady Gaga        dance pop  2010  119    92    70   \n",
              "5  Just the Way You Are  Bruno Mars              pop  2010  109    84    64   \n",
              "\n",
              "   dB  live  val  dur  acous  spch   pop  \n",
              "1  -4     8   80  217     19     4  83.0  \n",
              "2  -5    52   64  263     24    23  82.0  \n",
              "3  -3    29   71  200     10    14  80.0  \n",
              "4  -4     8   71  295      0     4  79.0  \n",
              "5  -5     9   43  221      2     4  78.0  "
            ]
          },
          "execution_count": 185,
          "metadata": {},
          "output_type": "execute_result"
        }
      ],
      "source": [
        "songs=pd.read_csv('/content/songs.csv',index_col=0)\n",
        "songs.info()\n",
        "songs.head()"
      ]
    },
    {
      "cell_type": "markdown",
      "metadata": {
        "id": "Mluf76P-FAHt"
      },
      "source": [
        "# 데이터 전처리"
      ]
    },
    {
      "cell_type": "markdown",
      "metadata": {
        "id": "gbjpHyQgIbU5"
      },
      "source": [
        "### 필요한 columns만 뽑고,top genre가 숫자인 데이터들을 삭제\n"
      ]
    },
    {
      "cell_type": "code",
      "execution_count": 186,
      "metadata": {
        "id": "xpimlo2BtOLO"
      },
      "outputs": [],
      "source": [
        "songs=songs[['title','artist','year','top genre','bpm','nrgy','dB','dnce']]\n",
        "songs=songs[(songs['top genre']!='2011') & (songs['top genre']!='2013') & (songs['top genre'] != '2014')\n",
        "& (songs['top genre']!='2015') & (songs['top genre']!='2016') & (songs['bpm']!=0)]"
      ]
    },
    {
      "cell_type": "code",
      "execution_count": 187,
      "metadata": {
        "colab": {
          "base_uri": "https://localhost:8080/"
        },
        "id": "EQA2ZLFosrCL",
        "outputId": "c7b6b35d-004a-41eb-f58a-f1bf02fd93ad"
      },
      "outputs": [
        {
          "name": "stdout",
          "output_type": "stream",
          "text": [
            "['neo mellow' 'detroit hip hop' 'dance pop' 'pop' 'canadian pop' 'hip pop'\n",
            " 'barbadian pop' 'atl hip hop' 'australian pop' 'indie pop' 'art pop'\n",
            " 'colombian pop' 'big room' 'british soul' 'chicago rap' 'acoustic pop'\n",
            " 'permanent wave' 'boy band' 'baroque pop' 'celtic rock' 'electro'\n",
            " 'complextro' 'canadian hip hop' 'candy pop' 'alaska indie' 'folk-pop'\n",
            " 'metropopolis' 'house' 'australian hip hop' 'electropop'\n",
            " 'australian dance' 'hollywood' 'canadian contemporary r&b'\n",
            " 'irish singer-songwriter' 'tropical house' 'belgian edm'\n",
            " 'french indie pop' 'hip hop' 'danish pop' 'latin' 'canadian latin'\n",
            " 'electronic trap' 'edm' 'electro house' 'downtempo' 'brostep'\n",
            " 'contemporary country' 'moroccan pop' 'escape room' 'alternative r&b']\n",
            "Index(['title', 'artist', 'year', 'top genre', 'bpm', 'nrgy', 'dB', 'dnce'], dtype='object')\n"
          ]
        }
      ],
      "source": [
        "print(songs['top genre'].unique())\n",
        "print(songs.columns)"
      ]
    },
    {
      "cell_type": "markdown",
      "metadata": {
        "id": "ilcTe050Kinr"
      },
      "source": [
        "## 인기장르의 순위"
      ]
    },
    {
      "cell_type": "code",
      "execution_count": 188,
      "metadata": {
        "colab": {
          "base_uri": "https://localhost:8080/"
        },
        "id": "T7p47_x9LyIo",
        "outputId": "ca4e1f86-6c2a-426d-e94e-6fd983e14221"
      },
      "outputs": [
        {
          "name": "stdout",
          "output_type": "stream",
          "text": [
            "(590, 8)\n",
            "['neo mellow' 'detroit hip hop' 'dance pop' 'pop' 'canadian pop' 'hip pop'\n",
            " 'barbadian pop' 'atl hip hop' 'australian pop' 'indie pop' 'art pop'\n",
            " 'colombian pop' 'big room' 'british soul' 'chicago rap' 'acoustic pop'\n",
            " 'permanent wave' 'boy band' 'baroque pop' 'celtic rock' 'electro'\n",
            " 'complextro' 'canadian hip hop' 'candy pop' 'alaska indie' 'folk-pop'\n",
            " 'metropopolis' 'house' 'australian hip hop' 'electropop'\n",
            " 'australian dance' 'hollywood' 'canadian contemporary r&b'\n",
            " 'irish singer-songwriter' 'tropical house' 'belgian edm'\n",
            " 'french indie pop' 'hip hop' 'danish pop' 'latin' 'canadian latin'\n",
            " 'electronic trap' 'edm' 'electro house' 'downtempo' 'brostep'\n",
            " 'contemporary country' 'moroccan pop' 'escape room' 'alternative r&b']\n"
          ]
        }
      ],
      "source": [
        "print(songs.shape)\n",
        "print(songs['top genre'].unique())"
      ]
    },
    {
      "cell_type": "markdown",
      "metadata": {
        "id": "67nj3B8TIvv7"
      },
      "source": [
        "### top genre의 수가 많아 count한 결과 top 15의 장르들만 추출\n"
      ]
    },
    {
      "cell_type": "code",
      "execution_count": 189,
      "metadata": {
        "colab": {
          "base_uri": "https://localhost:8080/",
          "height": 261
        },
        "id": "j_Q-GJi_QHNj",
        "outputId": "d32a25f4-43be-44cf-e3ed-b8bb79d57a38"
      },
      "outputs": [
        {
          "name": "stdout",
          "output_type": "stream",
          "text": [
            "['dance pop' 'pop' 'canadian pop' 'boy band' 'barbadian pop' 'electropop'\n",
            " 'british soul' 'big room' 'canadian contemporary r&b' 'neo mellow'\n",
            " 'art pop' 'hip pop' 'complextro' 'australian dance' 'australian pop']\n"
          ]
        },
        {
          "data": {
            "text/html": [
              "\n",
              "  <div id=\"df-b29347a0-7eeb-46f0-8eb1-790432a744b6\">\n",
              "    <div class=\"colab-df-container\">\n",
              "      <div>\n",
              "<style scoped>\n",
              "    .dataframe tbody tr th:only-of-type {\n",
              "        vertical-align: middle;\n",
              "    }\n",
              "\n",
              "    .dataframe tbody tr th {\n",
              "        vertical-align: top;\n",
              "    }\n",
              "\n",
              "    .dataframe thead th {\n",
              "        text-align: right;\n",
              "    }\n",
              "</style>\n",
              "<table border=\"1\" class=\"dataframe\">\n",
              "  <thead>\n",
              "    <tr style=\"text-align: right;\">\n",
              "      <th></th>\n",
              "      <th>title</th>\n",
              "      <th>artist</th>\n",
              "      <th>year</th>\n",
              "      <th>top genre</th>\n",
              "      <th>bpm</th>\n",
              "      <th>nrgy</th>\n",
              "      <th>dB</th>\n",
              "      <th>dnce</th>\n",
              "    </tr>\n",
              "  </thead>\n",
              "  <tbody>\n",
              "    <tr>\n",
              "      <th>1</th>\n",
              "      <td>Hey, Soul Sister</td>\n",
              "      <td>Train</td>\n",
              "      <td>2010</td>\n",
              "      <td>neo mellow</td>\n",
              "      <td>97</td>\n",
              "      <td>89</td>\n",
              "      <td>-4</td>\n",
              "      <td>67</td>\n",
              "    </tr>\n",
              "    <tr>\n",
              "      <th>3</th>\n",
              "      <td>TiK ToK</td>\n",
              "      <td>Kesha</td>\n",
              "      <td>2010</td>\n",
              "      <td>dance pop</td>\n",
              "      <td>120</td>\n",
              "      <td>84</td>\n",
              "      <td>-3</td>\n",
              "      <td>76</td>\n",
              "    </tr>\n",
              "    <tr>\n",
              "      <th>4</th>\n",
              "      <td>Bad Romance</td>\n",
              "      <td>Lady Gaga</td>\n",
              "      <td>2010</td>\n",
              "      <td>dance pop</td>\n",
              "      <td>119</td>\n",
              "      <td>92</td>\n",
              "      <td>-4</td>\n",
              "      <td>70</td>\n",
              "    </tr>\n",
              "    <tr>\n",
              "      <th>5</th>\n",
              "      <td>Just the Way You Are</td>\n",
              "      <td>Bruno Mars</td>\n",
              "      <td>2010</td>\n",
              "      <td>pop</td>\n",
              "      <td>109</td>\n",
              "      <td>84</td>\n",
              "      <td>-5</td>\n",
              "      <td>64</td>\n",
              "    </tr>\n",
              "    <tr>\n",
              "      <th>6</th>\n",
              "      <td>Baby</td>\n",
              "      <td>Justin Bieber</td>\n",
              "      <td>2010</td>\n",
              "      <td>canadian pop</td>\n",
              "      <td>65</td>\n",
              "      <td>86</td>\n",
              "      <td>-5</td>\n",
              "      <td>73</td>\n",
              "    </tr>\n",
              "  </tbody>\n",
              "</table>\n",
              "</div>\n",
              "      <button class=\"colab-df-convert\" onclick=\"convertToInteractive('df-b29347a0-7eeb-46f0-8eb1-790432a744b6')\"\n",
              "              title=\"Convert this dataframe to an interactive table.\"\n",
              "              style=\"display:none;\">\n",
              "        \n",
              "  <svg xmlns=\"http://www.w3.org/2000/svg\" height=\"24px\"viewBox=\"0 0 24 24\"\n",
              "       width=\"24px\">\n",
              "    <path d=\"M0 0h24v24H0V0z\" fill=\"none\"/>\n",
              "    <path d=\"M18.56 5.44l.94 2.06.94-2.06 2.06-.94-2.06-.94-.94-2.06-.94 2.06-2.06.94zm-11 1L8.5 8.5l.94-2.06 2.06-.94-2.06-.94L8.5 2.5l-.94 2.06-2.06.94zm10 10l.94 2.06.94-2.06 2.06-.94-2.06-.94-.94-2.06-.94 2.06-2.06.94z\"/><path d=\"M17.41 7.96l-1.37-1.37c-.4-.4-.92-.59-1.43-.59-.52 0-1.04.2-1.43.59L10.3 9.45l-7.72 7.72c-.78.78-.78 2.05 0 2.83L4 21.41c.39.39.9.59 1.41.59.51 0 1.02-.2 1.41-.59l7.78-7.78 2.81-2.81c.8-.78.8-2.07 0-2.86zM5.41 20L4 18.59l7.72-7.72 1.47 1.35L5.41 20z\"/>\n",
              "  </svg>\n",
              "      </button>\n",
              "      \n",
              "  <style>\n",
              "    .colab-df-container {\n",
              "      display:flex;\n",
              "      flex-wrap:wrap;\n",
              "      gap: 12px;\n",
              "    }\n",
              "\n",
              "    .colab-df-convert {\n",
              "      background-color: #E8F0FE;\n",
              "      border: none;\n",
              "      border-radius: 50%;\n",
              "      cursor: pointer;\n",
              "      display: none;\n",
              "      fill: #1967D2;\n",
              "      height: 32px;\n",
              "      padding: 0 0 0 0;\n",
              "      width: 32px;\n",
              "    }\n",
              "\n",
              "    .colab-df-convert:hover {\n",
              "      background-color: #E2EBFA;\n",
              "      box-shadow: 0px 1px 2px rgba(60, 64, 67, 0.3), 0px 1px 3px 1px rgba(60, 64, 67, 0.15);\n",
              "      fill: #174EA6;\n",
              "    }\n",
              "\n",
              "    [theme=dark] .colab-df-convert {\n",
              "      background-color: #3B4455;\n",
              "      fill: #D2E3FC;\n",
              "    }\n",
              "\n",
              "    [theme=dark] .colab-df-convert:hover {\n",
              "      background-color: #434B5C;\n",
              "      box-shadow: 0px 1px 3px 1px rgba(0, 0, 0, 0.15);\n",
              "      filter: drop-shadow(0px 1px 2px rgba(0, 0, 0, 0.3));\n",
              "      fill: #FFFFFF;\n",
              "    }\n",
              "  </style>\n",
              "\n",
              "      <script>\n",
              "        const buttonEl =\n",
              "          document.querySelector('#df-b29347a0-7eeb-46f0-8eb1-790432a744b6 button.colab-df-convert');\n",
              "        buttonEl.style.display =\n",
              "          google.colab.kernel.accessAllowed ? 'block' : 'none';\n",
              "\n",
              "        async function convertToInteractive(key) {\n",
              "          const element = document.querySelector('#df-b29347a0-7eeb-46f0-8eb1-790432a744b6');\n",
              "          const dataTable =\n",
              "            await google.colab.kernel.invokeFunction('convertToInteractive',\n",
              "                                                     [key], {});\n",
              "          if (!dataTable) return;\n",
              "\n",
              "          const docLinkHtml = 'Like what you see? Visit the ' +\n",
              "            '<a target=\"_blank\" href=https://colab.research.google.com/notebooks/data_table.ipynb>data table notebook</a>'\n",
              "            + ' to learn more about interactive tables.';\n",
              "          element.innerHTML = '';\n",
              "          dataTable['output_type'] = 'display_data';\n",
              "          await google.colab.output.renderOutput(dataTable, element);\n",
              "          const docLink = document.createElement('div');\n",
              "          docLink.innerHTML = docLinkHtml;\n",
              "          element.appendChild(docLink);\n",
              "        }\n",
              "      </script>\n",
              "    </div>\n",
              "  </div>\n",
              "  "
            ],
            "text/plain": [
              "                  title         artist  year     top genre  bpm  nrgy  dB  \\\n",
              "1      Hey, Soul Sister          Train  2010    neo mellow   97    89  -4   \n",
              "3               TiK ToK          Kesha  2010     dance pop  120    84  -3   \n",
              "4           Bad Romance      Lady Gaga  2010     dance pop  119    92  -4   \n",
              "5  Just the Way You Are     Bruno Mars  2010           pop  109    84  -5   \n",
              "6                  Baby  Justin Bieber  2010  canadian pop   65    86  -5   \n",
              "\n",
              "   dnce  \n",
              "1    67  \n",
              "3    76  \n",
              "4    70  \n",
              "5    64  \n",
              "6    73  "
            ]
          },
          "execution_count": 189,
          "metadata": {},
          "output_type": "execute_result"
        }
      ],
      "source": [
        "genre_rank=songs.groupby('top genre').count()\n",
        "genre_rank=genre_rank.sort_values('title',ascending=False)\n",
        "genre_rank=genre_rank[:15].index\n",
        "genre_rank=np.array(genre_rank)\n",
        "print(genre_rank)\n",
        "songs=songs[songs['top genre'].isin(genre_rank)]\n",
        "songs.head()\n",
        "# genre_rank=songs[(songs['top genre'] in genre_rank)]"
      ]
    },
    {
      "cell_type": "markdown",
      "metadata": {
        "id": "WewSNNDpI5H6"
      },
      "source": [
        "### 각장르들의 BPM 평균값 도출"
      ]
    },
    {
      "cell_type": "code",
      "execution_count": 190,
      "metadata": {
        "colab": {
          "base_uri": "https://localhost:8080/"
        },
        "id": "bFx-4swvV-08",
        "outputId": "43bc2f9f-7bbc-440c-f9ea-c44a3b9dbf1b"
      },
      "outputs": [
        {
          "data": {
            "text/plain": [
              "top genre\n",
              "art pop                      115.125000\n",
              "australian dance             128.833333\n",
              "australian pop               153.800000\n",
              "barbadian pop                125.333333\n",
              "big room                     122.300000\n",
              "boy band                     116.133333\n",
              "british soul                 128.400000\n",
              "canadian contemporary r&b    127.000000\n",
              "canadian pop                 121.500000\n",
              "complextro                   120.333333\n",
              "dance pop                    118.393651\n",
              "electropop                   112.846154\n",
              "hip pop                      100.666667\n",
              "neo mellow                   109.111111\n",
              "pop                          117.066667\n",
              "Name: bpm, dtype: float64"
            ]
          },
          "execution_count": 190,
          "metadata": {},
          "output_type": "execute_result"
        }
      ],
      "source": [
        "mean_bpm_by_genre=songs.groupby('top genre').bpm.mean()\n",
        "mean_bpm_by_genre"
      ]
    },
    {
      "cell_type": "code",
      "execution_count": 191,
      "metadata": {
        "colab": {
          "base_uri": "https://localhost:8080/",
          "height": 661
        },
        "id": "aJ2fRyw_ZwQ1",
        "outputId": "06c30133-e46d-43d1-f56f-4dc37a455aa3"
      },
      "outputs": [
        {
          "name": "stdout",
          "output_type": "stream",
          "text": [
            "['neo mellow' 'dance pop' 'pop' 'canadian pop' 'hip pop' 'barbadian pop'\n",
            " 'australian pop' 'art pop' 'big room' 'british soul' 'boy band'\n",
            " 'complextro' 'electropop' 'australian dance' 'canadian contemporary r&b']\n",
            "375\n",
            "Index(['title', 'artist', 'genre', 'year', 'bpm', 'nrgy', 'dB'], dtype='object')\n",
            "375\n"
          ]
        },
        {
          "data": {
            "text/html": [
              "\n",
              "  <div id=\"df-bf437561-c974-4405-9784-5348f1f4ee02\">\n",
              "    <div class=\"colab-df-container\">\n",
              "      <div>\n",
              "<style scoped>\n",
              "    .dataframe tbody tr th:only-of-type {\n",
              "        vertical-align: middle;\n",
              "    }\n",
              "\n",
              "    .dataframe tbody tr th {\n",
              "        vertical-align: top;\n",
              "    }\n",
              "\n",
              "    .dataframe thead th {\n",
              "        text-align: right;\n",
              "    }\n",
              "</style>\n",
              "<table border=\"1\" class=\"dataframe\">\n",
              "  <thead>\n",
              "    <tr style=\"text-align: right;\">\n",
              "      <th></th>\n",
              "      <th>year</th>\n",
              "      <th>bpm</th>\n",
              "      <th>nrgy</th>\n",
              "      <th>dB</th>\n",
              "      <th>dnce</th>\n",
              "    </tr>\n",
              "    <tr>\n",
              "      <th>top genre</th>\n",
              "      <th></th>\n",
              "      <th></th>\n",
              "      <th></th>\n",
              "      <th></th>\n",
              "      <th></th>\n",
              "    </tr>\n",
              "  </thead>\n",
              "  <tbody>\n",
              "    <tr>\n",
              "      <th>art pop</th>\n",
              "      <td>2014.875000</td>\n",
              "      <td>115.125000</td>\n",
              "      <td>60.125000</td>\n",
              "      <td>-8.000000</td>\n",
              "      <td>52.375000</td>\n",
              "    </tr>\n",
              "    <tr>\n",
              "      <th>australian dance</th>\n",
              "      <td>2015.666667</td>\n",
              "      <td>128.833333</td>\n",
              "      <td>72.000000</td>\n",
              "      <td>-4.500000</td>\n",
              "      <td>45.833333</td>\n",
              "    </tr>\n",
              "    <tr>\n",
              "      <th>australian pop</th>\n",
              "      <td>2011.600000</td>\n",
              "      <td>153.800000</td>\n",
              "      <td>74.400000</td>\n",
              "      <td>-4.400000</td>\n",
              "      <td>64.000000</td>\n",
              "    </tr>\n",
              "    <tr>\n",
              "      <th>barbadian pop</th>\n",
              "      <td>2012.866667</td>\n",
              "      <td>125.333333</td>\n",
              "      <td>68.466667</td>\n",
              "      <td>-5.000000</td>\n",
              "      <td>62.066667</td>\n",
              "    </tr>\n",
              "    <tr>\n",
              "      <th>big room</th>\n",
              "      <td>2014.900000</td>\n",
              "      <td>122.300000</td>\n",
              "      <td>77.200000</td>\n",
              "      <td>-4.900000</td>\n",
              "      <td>60.900000</td>\n",
              "    </tr>\n",
              "    <tr>\n",
              "      <th>boy band</th>\n",
              "      <td>2014.400000</td>\n",
              "      <td>116.133333</td>\n",
              "      <td>80.266667</td>\n",
              "      <td>-4.266667</td>\n",
              "      <td>63.800000</td>\n",
              "    </tr>\n",
              "    <tr>\n",
              "      <th>british soul</th>\n",
              "      <td>2014.600000</td>\n",
              "      <td>128.400000</td>\n",
              "      <td>56.200000</td>\n",
              "      <td>-5.900000</td>\n",
              "      <td>58.000000</td>\n",
              "    </tr>\n",
              "    <tr>\n",
              "      <th>canadian contemporary r&amp;b</th>\n",
              "      <td>2016.000000</td>\n",
              "      <td>127.000000</td>\n",
              "      <td>64.777778</td>\n",
              "      <td>-6.333333</td>\n",
              "      <td>54.555556</td>\n",
              "    </tr>\n",
              "    <tr>\n",
              "      <th>canadian pop</th>\n",
              "      <td>2015.294118</td>\n",
              "      <td>121.500000</td>\n",
              "      <td>68.117647</td>\n",
              "      <td>-6.088235</td>\n",
              "      <td>63.735294</td>\n",
              "    </tr>\n",
              "    <tr>\n",
              "      <th>complextro</th>\n",
              "      <td>2015.333333</td>\n",
              "      <td>120.333333</td>\n",
              "      <td>78.500000</td>\n",
              "      <td>-3.500000</td>\n",
              "      <td>61.166667</td>\n",
              "    </tr>\n",
              "    <tr>\n",
              "      <th>dance pop</th>\n",
              "      <td>2014.390476</td>\n",
              "      <td>118.393651</td>\n",
              "      <td>73.193651</td>\n",
              "      <td>-5.165079</td>\n",
              "      <td>66.311111</td>\n",
              "    </tr>\n",
              "    <tr>\n",
              "      <th>electropop</th>\n",
              "      <td>2017.153846</td>\n",
              "      <td>112.846154</td>\n",
              "      <td>65.230769</td>\n",
              "      <td>-6.846154</td>\n",
              "      <td>64.692308</td>\n",
              "    </tr>\n",
              "    <tr>\n",
              "      <th>hip pop</th>\n",
              "      <td>2012.000000</td>\n",
              "      <td>100.666667</td>\n",
              "      <td>60.333333</td>\n",
              "      <td>-6.833333</td>\n",
              "      <td>58.666667</td>\n",
              "    </tr>\n",
              "    <tr>\n",
              "      <th>neo mellow</th>\n",
              "      <td>2014.000000</td>\n",
              "      <td>109.111111</td>\n",
              "      <td>40.666667</td>\n",
              "      <td>-8.111111</td>\n",
              "      <td>52.777778</td>\n",
              "    </tr>\n",
              "    <tr>\n",
              "      <th>pop</th>\n",
              "      <td>2015.050000</td>\n",
              "      <td>117.066667</td>\n",
              "      <td>68.300000</td>\n",
              "      <td>-5.600000</td>\n",
              "      <td>68.450000</td>\n",
              "    </tr>\n",
              "  </tbody>\n",
              "</table>\n",
              "</div>\n",
              "      <button class=\"colab-df-convert\" onclick=\"convertToInteractive('df-bf437561-c974-4405-9784-5348f1f4ee02')\"\n",
              "              title=\"Convert this dataframe to an interactive table.\"\n",
              "              style=\"display:none;\">\n",
              "        \n",
              "  <svg xmlns=\"http://www.w3.org/2000/svg\" height=\"24px\"viewBox=\"0 0 24 24\"\n",
              "       width=\"24px\">\n",
              "    <path d=\"M0 0h24v24H0V0z\" fill=\"none\"/>\n",
              "    <path d=\"M18.56 5.44l.94 2.06.94-2.06 2.06-.94-2.06-.94-.94-2.06-.94 2.06-2.06.94zm-11 1L8.5 8.5l.94-2.06 2.06-.94-2.06-.94L8.5 2.5l-.94 2.06-2.06.94zm10 10l.94 2.06.94-2.06 2.06-.94-2.06-.94-.94-2.06-.94 2.06-2.06.94z\"/><path d=\"M17.41 7.96l-1.37-1.37c-.4-.4-.92-.59-1.43-.59-.52 0-1.04.2-1.43.59L10.3 9.45l-7.72 7.72c-.78.78-.78 2.05 0 2.83L4 21.41c.39.39.9.59 1.41.59.51 0 1.02-.2 1.41-.59l7.78-7.78 2.81-2.81c.8-.78.8-2.07 0-2.86zM5.41 20L4 18.59l7.72-7.72 1.47 1.35L5.41 20z\"/>\n",
              "  </svg>\n",
              "      </button>\n",
              "      \n",
              "  <style>\n",
              "    .colab-df-container {\n",
              "      display:flex;\n",
              "      flex-wrap:wrap;\n",
              "      gap: 12px;\n",
              "    }\n",
              "\n",
              "    .colab-df-convert {\n",
              "      background-color: #E8F0FE;\n",
              "      border: none;\n",
              "      border-radius: 50%;\n",
              "      cursor: pointer;\n",
              "      display: none;\n",
              "      fill: #1967D2;\n",
              "      height: 32px;\n",
              "      padding: 0 0 0 0;\n",
              "      width: 32px;\n",
              "    }\n",
              "\n",
              "    .colab-df-convert:hover {\n",
              "      background-color: #E2EBFA;\n",
              "      box-shadow: 0px 1px 2px rgba(60, 64, 67, 0.3), 0px 1px 3px 1px rgba(60, 64, 67, 0.15);\n",
              "      fill: #174EA6;\n",
              "    }\n",
              "\n",
              "    [theme=dark] .colab-df-convert {\n",
              "      background-color: #3B4455;\n",
              "      fill: #D2E3FC;\n",
              "    }\n",
              "\n",
              "    [theme=dark] .colab-df-convert:hover {\n",
              "      background-color: #434B5C;\n",
              "      box-shadow: 0px 1px 3px 1px rgba(0, 0, 0, 0.15);\n",
              "      filter: drop-shadow(0px 1px 2px rgba(0, 0, 0, 0.3));\n",
              "      fill: #FFFFFF;\n",
              "    }\n",
              "  </style>\n",
              "\n",
              "      <script>\n",
              "        const buttonEl =\n",
              "          document.querySelector('#df-bf437561-c974-4405-9784-5348f1f4ee02 button.colab-df-convert');\n",
              "        buttonEl.style.display =\n",
              "          google.colab.kernel.accessAllowed ? 'block' : 'none';\n",
              "\n",
              "        async function convertToInteractive(key) {\n",
              "          const element = document.querySelector('#df-bf437561-c974-4405-9784-5348f1f4ee02');\n",
              "          const dataTable =\n",
              "            await google.colab.kernel.invokeFunction('convertToInteractive',\n",
              "                                                     [key], {});\n",
              "          if (!dataTable) return;\n",
              "\n",
              "          const docLinkHtml = 'Like what you see? Visit the ' +\n",
              "            '<a target=\"_blank\" href=https://colab.research.google.com/notebooks/data_table.ipynb>data table notebook</a>'\n",
              "            + ' to learn more about interactive tables.';\n",
              "          element.innerHTML = '';\n",
              "          dataTable['output_type'] = 'display_data';\n",
              "          await google.colab.output.renderOutput(dataTable, element);\n",
              "          const docLink = document.createElement('div');\n",
              "          docLink.innerHTML = docLinkHtml;\n",
              "          element.appendChild(docLink);\n",
              "        }\n",
              "      </script>\n",
              "    </div>\n",
              "  </div>\n",
              "  "
            ],
            "text/plain": [
              "                                  year         bpm       nrgy        dB  \\\n",
              "top genre                                                                 \n",
              "art pop                    2014.875000  115.125000  60.125000 -8.000000   \n",
              "australian dance           2015.666667  128.833333  72.000000 -4.500000   \n",
              "australian pop             2011.600000  153.800000  74.400000 -4.400000   \n",
              "barbadian pop              2012.866667  125.333333  68.466667 -5.000000   \n",
              "big room                   2014.900000  122.300000  77.200000 -4.900000   \n",
              "boy band                   2014.400000  116.133333  80.266667 -4.266667   \n",
              "british soul               2014.600000  128.400000  56.200000 -5.900000   \n",
              "canadian contemporary r&b  2016.000000  127.000000  64.777778 -6.333333   \n",
              "canadian pop               2015.294118  121.500000  68.117647 -6.088235   \n",
              "complextro                 2015.333333  120.333333  78.500000 -3.500000   \n",
              "dance pop                  2014.390476  118.393651  73.193651 -5.165079   \n",
              "electropop                 2017.153846  112.846154  65.230769 -6.846154   \n",
              "hip pop                    2012.000000  100.666667  60.333333 -6.833333   \n",
              "neo mellow                 2014.000000  109.111111  40.666667 -8.111111   \n",
              "pop                        2015.050000  117.066667  68.300000 -5.600000   \n",
              "\n",
              "                                dnce  \n",
              "top genre                             \n",
              "art pop                    52.375000  \n",
              "australian dance           45.833333  \n",
              "australian pop             64.000000  \n",
              "barbadian pop              62.066667  \n",
              "big room                   60.900000  \n",
              "boy band                   63.800000  \n",
              "british soul               58.000000  \n",
              "canadian contemporary r&b  54.555556  \n",
              "canadian pop               63.735294  \n",
              "complextro                 61.166667  \n",
              "dance pop                  66.311111  \n",
              "electropop                 64.692308  \n",
              "hip pop                    58.666667  \n",
              "neo mellow                 52.777778  \n",
              "pop                        68.450000  "
            ]
          },
          "execution_count": 191,
          "metadata": {},
          "output_type": "execute_result"
        }
      ],
      "source": [
        "songs_by_bpm=songs.sort_values('bpm')\n",
        "print(songs['top genre'].unique())\n",
        "result=songs[(songs['top genre']=='dance pop') | (songs['top genre']=='pop')]\n",
        "result=result[['title','artist','top genre','year','bpm','nrgy','dB']]\n",
        "result.rename(columns={'top genre':'genre'},inplace=True)\n",
        "print(len(result))\n",
        "print(result.columns)\n",
        "compression_opts = dict(method='zip',\n",
        "                        archive_name='result.csv')  \n",
        "result.to_csv('result.zip', index=False,\n",
        "          compression=compression_opts)  \n",
        "print(len(result))\n",
        "songs.groupby('top genre').mean()"
      ]
    },
    {
      "cell_type": "markdown",
      "metadata": {
        "id": "i6H19SIhLLfR"
      },
      "source": [
        "### 년도별 인기장르비율\n",
        "    * 매년마다 dance pop,pop의 비율이 압도적으로 많음"
      ]
    },
    {
      "cell_type": "code",
      "execution_count": 192,
      "metadata": {
        "colab": {
          "base_uri": "https://localhost:8080/",
          "height": 387
        },
        "id": "uLkOzAmxLPdm",
        "outputId": "43055fda-64ac-47be-9e41-eac068e3fc2c"
      },
      "outputs": [
        {
          "data": {
            "text/plain": [
              "<matplotlib.axes._subplots.AxesSubplot at 0x7f35f2a24610>"
            ]
          },
          "execution_count": 192,
          "metadata": {},
          "output_type": "execute_result"
        },
        {
          "data": {
            "image/png": "[encoded data removed]",
            "text/plain": [
              "<Figure size 1296x432 with 1 Axes>"
            ]
          },
          "metadata": {
            "needs_background": "light"
          },
          "output_type": "display_data"
        }
      ],
      "source": [
        "songs=songs.sort_values('year').reset_index(drop=True)\n",
        "songs['id']=[x for x in range(len(songs))]\n",
        "\n",
        "plt.figure(figsize=(18,6))\n",
        "sns.countplot(x=\"year\",hue=\"top genre\",data=songs)"
      ]
    },
    {
      "cell_type": "markdown",
      "metadata": {
        "id": "agEdUbISNNSc"
      },
      "source": [
        "## 2010~2019년도까지의 장르들의 비율\n",
        "    * 차례대로 dance pop,pop,canadian pop,barbadian pop,boy band,electropop순으로 많음 "
      ]
    },
    {
      "cell_type": "code",
      "execution_count": 193,
      "metadata": {
        "colab": {
          "base_uri": "https://localhost:8080/",
          "height": 607
        },
        "id": "u8Ez6JFoMkos",
        "outputId": "75f9c162-cc1b-441a-9890-f8b5266cf248"
      },
      "outputs": [
        {
          "data": {
            "text/plain": [
              "([0, 1, 2, 3, 4, 5, 6, 7, 8, 9, 10, 11, 12, 13, 14],\n",
              " <a list of 15 Text major ticklabel objects>)"
            ]
          },
          "execution_count": 193,
          "metadata": {},
          "output_type": "execute_result"
        },
        {
          "data": {
            "image/png": "[encoded data removed]",
            "text/plain": [
              "<Figure size 1296x576 with 1 Axes>"
            ]
          },
          "metadata": {
            "needs_background": "light"
          },
          "output_type": "display_data"
        }
      ],
      "source": [
        "plt.figure(figsize=(18,8))\n",
        "gen=songs['top genre'].value_counts()\n",
        "bar=plt.bar(gen.index,gen)\n",
        "# print(sub['bpm'].sort_values(ascending=False))\n",
        "for rect in bar:\n",
        "    height = rect.get_height()\n",
        "    plt.text(rect.get_x() + rect.get_width()/2.0, height, '%.1f' % height, ha='center', va='bottom', size = 12)\n",
        "plt.title('genre popularity')\n",
        "plt.xticks(rotation=45)"
      ]
    },
    {
      "cell_type": "markdown",
      "metadata": {
        "id": "i4wjQUGQNsoE"
      },
      "source": [
        "## 장르별 평균 Dnce 와 장르별 평균 BPM\n",
        "    * 인기가 높았던 장르일수록 dnce가 대체로 높다.\n",
        "    * 인기가 높았던 상위 7개장르들의 bpm분포는 랜덤하지않고 대체로 112~126에 몰려있다."
      ]
    },
    {
      "cell_type": "code",
      "execution_count": 194,
      "metadata": {
        "colab": {
          "base_uri": "https://localhost:8080/",
          "height": 1000
        },
        "id": "0uuV_qSe6rNv",
        "outputId": "4bbcb011-4641-4a9f-e660-e48cab6cb6d7"
      },
      "outputs": [
        {
          "data": {
            "text/plain": [
              "Text(0.5, 1.0, 'bpm by genre')"
            ]
          },
          "execution_count": 194,
          "metadata": {},
          "output_type": "execute_result"
        },
        {
          "data": {
            "image/png": "[encoded data removed]",
            "text/plain": [
              "<Figure size 1296x720 with 1 Axes>"
            ]
          },
          "metadata": {
            "needs_background": "light"
          },
          "output_type": "display_data"
        },
        {
          "data": {
            "image/png": "[encoded data removed]",
            "text/plain": [
              "<Figure size 1296x720 with 1 Axes>"
            ]
          },
          "metadata": {
            "needs_background": "light"
          },
          "output_type": "display_data"
        }
      ],
      "source": [
        "plt.figure(figsize=(18,10))\n",
        "sub=songs.groupby('top genre').mean().sort_values('dnce',ascending=False)\n",
        "bar=plt.bar(sub.index,sub['dnce'])\n",
        "plt.xticks(rotation=45)\n",
        "plt.title('dnce by genre')\n",
        "for rect in bar:\n",
        "    height = rect.get_height()\n",
        "    plt.text(rect.get_x() + rect.get_width()/2.0, height, '%.1f' % height, ha='center', va='bottom', size = 12)\n",
        "plt.figure(figsize=(18,10))\n",
        "bar=plt.bar(sub['bpm'].sort_values(ascending=False).index,sub['bpm'].sort_values(ascending=False))\n",
        "for rect in bar:\n",
        "    height = rect.get_height()\n",
        "    plt.text(rect.get_x() + rect.get_width()/2.0, height, '%.1f' % height, ha='center', va='bottom', size = 12)\n",
        "plt.xticks(rotation=45)\n",
        "plt.title('bpm by genre')"
      ]
    },
    {
      "cell_type": "markdown",
      "metadata": {
        "id": "9H0q9r18TbQj"
      },
      "source": [
        "## 년도에 따른 장르별 bpm\n",
        "    * 최근으로 올수록 인기장르들의 평균bpm들이 점점 떨어지고 있음"
      ]
    },
    {
      "cell_type": "markdown",
      "metadata": {
        "id": "u122odP1X8Pn"
      },
      "source": []
    },
    {
      "cell_type": "code",
      "execution_count": 196,
      "metadata": {
        "colab": {
          "base_uri": "https://localhost:8080/",
          "height": 1000
        },
        "id": "5OF0V-4oRiW9",
        "outputId": "52d5d882-4f43-4725-ac04-fc832491d3a7"
      },
      "outputs": [
        {
          "data": {
            "text/plain": [
              "<matplotlib.legend.Legend at 0x7f35f04cb850>"
            ]
          },
          "execution_count": 196,
          "metadata": {},
          "output_type": "execute_result"
        },
        {
          "data": {
            "image/png": "[encoded data removed]",
            "text/plain": [
              "<Figure size 1296x1296 with 1 Axes>"
            ]
          },
          "metadata": {
            "needs_background": "light"
          },
          "output_type": "display_data"
        }
      ],
      "source": [
        "year_bpm=songs.groupby(['year','top genre']).bpm.mean()\n",
        "year_bpm=year_bpm.reset_index()\n",
        "# print(year_bpm.head(20))\n",
        "plt.figure(figsize=(18,18))\n",
        "year_bpm=year_bpm[(year_bpm['top genre']=='dance pop') | (year_bpm['top genre']=='pop') | (year_bpm['top genre']=='electropop') | (year_bpm['top genre']=='canadian pop') | (year_bpm['top genre']=='barbadian pop') | (year_bpm['top genre']=='boyband')]\n",
        "sns.barplot(x='year', y='bpm',hue='top genre', data=year_bpm) # default : dodge=True\n",
        "\n",
        "plt.title('Dodged Bar Chart by Seaborn', fontsize=20)\n",
        "\n",
        "plt.legend(fontsize=12)\n",
        "\n",
        "\n",
        "\n"
      ]
    },
    {
      "cell_type": "markdown",
      "metadata": {},
      "source": [
        "## 분석결과\n",
        "    1.bpm의 범위는 112~126,dnce는 높을 수록 인기가 있을 음악일 확률이 높다\n",
        "    2.해마다 인기장르들의 음악의 평균 bpm은 낮아지고 있다."
      ]
    }
  ],
  "metadata": {
    "colab": {
      "collapsed_sections": [],
      "name": "Untitled20.ipynb",
      "provenance": []
    },
    "kernelspec": {
      "display_name": "Python 3",
      "name": "python3"
    },
    "language_info": {
      "name": "python"
    }
  },
  "nbformat": 4,
  "nbformat_minor": 0
}
